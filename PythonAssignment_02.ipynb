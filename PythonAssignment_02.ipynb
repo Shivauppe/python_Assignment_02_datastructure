{
  "nbformat": 4,
  "nbformat_minor": 0,
  "metadata": {
    "colab": {
      "provenance": []
    },
    "kernelspec": {
      "name": "python3",
      "display_name": "Python 3"
    },
    "language_info": {
      "name": "python"
    }
  },
  "cells": [
    {
      "cell_type": "markdown",
      "source": [
        "## **Discuss string slicing and provide examples in python**\n",
        "\n",
        "String slicing refers to accessing a substring from a given string. In Python, strings are indexed, and you can access parts of the string using slice notation\n",
        "\n",
        "string[start:end:step]\n",
        "\n",
        "start: (inclusive).\n",
        "end:(exclusive)."
      ],
      "metadata": {
        "id": "G93qLB-Y7grn"
      }
    },
    {
      "cell_type": "code",
      "source": [
        "#Examples: lets Consider a String\n",
        "text = \"Hello, World!\"\n",
        "\n",
        "#Slice with only start and end:\n",
        "print(text[0:5])"
      ],
      "metadata": {
        "colab": {
          "base_uri": "https://localhost:8080/"
        },
        "id": "8X3PoWez79mh",
        "outputId": "e15dab4c-d87d-4195-b203-950efbc6b8f3"
      },
      "execution_count": null,
      "outputs": [
        {
          "output_type": "stream",
          "name": "stdout",
          "text": [
            "Hello\n"
          ]
        }
      ]
    },
    {
      "cell_type": "code",
      "source": [
        "#Slice without specifying start or end:\n",
        "print(text[:5])\n",
        "print(text[7:])\n"
      ],
      "metadata": {
        "colab": {
          "base_uri": "https://localhost:8080/"
        },
        "id": "ISvfdsjc8Miq",
        "outputId": "39a948ca-a7a8-4cec-dbc4-5713d97fcbe5"
      },
      "execution_count": null,
      "outputs": [
        {
          "output_type": "stream",
          "name": "stdout",
          "text": [
            "Hello\n",
            "World!\n"
          ]
        }
      ]
    },
    {
      "cell_type": "code",
      "source": [
        "#Slice with step:\n",
        "\n",
        "print(text[0:12:2])\n"
      ],
      "metadata": {
        "colab": {
          "base_uri": "https://localhost:8080/"
        },
        "id": "eVgTSzWU8U6D",
        "outputId": "24c5a193-bb67-4847-b7eb-f0d8dbd2676e"
      },
      "execution_count": null,
      "outputs": [
        {
          "output_type": "stream",
          "name": "stdout",
          "text": [
            "Hlo ol\n"
          ]
        }
      ]
    },
    {
      "cell_type": "code",
      "source": [
        "#Negative slicing:\n",
        "print(text[-6:])\n",
        "\n",
        "#Negative indexing starts from the end of the string. text[-6:] starts slicing from the 6th character from the end."
      ],
      "metadata": {
        "colab": {
          "base_uri": "https://localhost:8080/"
        },
        "id": "6nBEwl3A9UhP",
        "outputId": "a878c62c-1325-4767-acc3-ca635e7ebc10"
      },
      "execution_count": null,
      "outputs": [
        {
          "output_type": "stream",
          "name": "stdout",
          "text": [
            "World!\n"
          ]
        }
      ]
    },
    {
      "cell_type": "code",
      "source": [
        "#Reversing a string using slicing:\n",
        "print(text[::-1])\n",
        "#By using a negative step (-1), the string is reversed."
      ],
      "metadata": {
        "colab": {
          "base_uri": "https://localhost:8080/"
        },
        "id": "7z47F6-K9d2F",
        "outputId": "87ae8a41-76ab-4944-b994-d3f25d4f35af"
      },
      "execution_count": null,
      "outputs": [
        {
          "output_type": "stream",
          "name": "stdout",
          "text": [
            "!dlroW ,olleH\n"
          ]
        }
      ]
    },
    {
      "cell_type": "code",
      "source": [
        "#Extracting alternate characters:\n",
        "text = \"abcdefghij\"\n",
        "print(text[::2])\n",
        "\n",
        "#The slice ::2 starts from the beginning and selects every second character.\n",
        "\n"
      ],
      "metadata": {
        "colab": {
          "base_uri": "https://localhost:8080/"
        },
        "id": "5UTqqCZd95P_",
        "outputId": "20865446-ffb9-4ee8-a6aa-7552bbc2459b"
      },
      "execution_count": null,
      "outputs": [
        {
          "output_type": "stream",
          "name": "stdout",
          "text": [
            "acegi\n"
          ]
        }
      ]
    },
    {
      "cell_type": "code",
      "source": [
        "#Extracting a substring in reverse order:\n",
        "print(text[5:1:-1])\n",
        "\n",
        "#This slice starts at index 5 and moves backwards to index 2 (exclusive), selecting characters in reverse."
      ],
      "metadata": {
        "colab": {
          "base_uri": "https://localhost:8080/"
        },
        "id": "j-fExntM-A24",
        "outputId": "3ca5f70e-c185-46b0-cb57-94315e8f1393"
      },
      "execution_count": null,
      "outputs": [
        {
          "output_type": "stream",
          "name": "stdout",
          "text": [
            "fedc\n"
          ]
        }
      ]
    },
    {
      "cell_type": "code",
      "source": [
        "#Handling out-of-range indices:\n",
        "print(text[3:100])\n",
        "\n",
        "#If the end index exceeds the length of the string, Python safely returns characters up to the string's length without an error.\n",
        "\n"
      ],
      "metadata": {
        "colab": {
          "base_uri": "https://localhost:8080/"
        },
        "id": "lJMWGzS7-N0w",
        "outputId": "b0361273-a2c6-4c48-86b0-18c4eefe0886"
      },
      "execution_count": null,
      "outputs": [
        {
          "output_type": "stream",
          "name": "stdout",
          "text": [
            "defghij\n"
          ]
        }
      ]
    },
    {
      "cell_type": "markdown",
      "source": [
        "**#Important Notes:**\n",
        "Immutable strings: Strings in Python are immutable, so slicing a string creates a new string and does not modify the original one."
      ],
      "metadata": {
        "id": "TfNISE_L9qyN"
      }
    },
    {
      "cell_type": "markdown",
      "source": [
        "## **Explain the key features of lists in python**\n",
        "##Lists are one of the most versatile and commonly used data structures in Python. They allow you to store multiple items in a single variable and provide a wide range of features for managing and manipulating collections of data. Below are the key features of lists in Python:"
      ],
      "metadata": {
        "id": "jpI9fC2v-c9w"
      }
    },
    {
      "cell_type": "code",
      "source": [
        "#1. Ordered Collection\n",
        "#Lists maintain the order of the elements as they are inserted.\n",
        "\n",
        "my_list = [10, 20, 30, 40]\n",
        "print(my_list)\n"
      ],
      "metadata": {
        "colab": {
          "base_uri": "https://localhost:8080/"
        },
        "id": "sNJV82x5_DQC",
        "outputId": "ea52de76-2608-415a-c64e-df9918164d7b"
      },
      "execution_count": null,
      "outputs": [
        {
          "output_type": "stream",
          "name": "stdout",
          "text": [
            "[10, 20, 30, 40]\n"
          ]
        }
      ]
    },
    {
      "cell_type": "code",
      "source": [
        "#Mutable\n",
        "#Lists are mutable, meaning you can change their content after creation by updating, adding, or removing elements.\n",
        "my_list = [1, 2, 3]\n",
        "my_list[0] = 10\n",
        "print(my_list)\n"
      ],
      "metadata": {
        "colab": {
          "base_uri": "https://localhost:8080/"
        },
        "id": "ZcwYxKqb_dAK",
        "outputId": "a3777e88-f078-4755-e247-1d303aa2ba4d"
      },
      "execution_count": null,
      "outputs": [
        {
          "output_type": "stream",
          "name": "stdout",
          "text": [
            "[10, 2, 3]\n"
          ]
        }
      ]
    },
    {
      "cell_type": "code",
      "source": [
        "#Heterogeneous Elements\n",
        "#Lists can store elements of different data types, including integers, floats, strings, other lists, or even custom objects.\n",
        "my_list = [1, \"Hello\", 3.14, [2, 3]]\n",
        "print(my_list)\n"
      ],
      "metadata": {
        "colab": {
          "base_uri": "https://localhost:8080/"
        },
        "id": "2o0L_VVm_oaX",
        "outputId": "d1705b8c-7b5a-455a-c5bf-5a9d30d0a399"
      },
      "execution_count": null,
      "outputs": [
        {
          "output_type": "stream",
          "name": "stdout",
          "text": [
            "[1, 'Hello', 3.14, [2, 3]]\n"
          ]
        }
      ]
    },
    {
      "cell_type": "code",
      "source": [
        "#Indexing and Slicing\n",
        "#it can access elements in a list using their index. Indexing starts at 0, and negative indexing is supported. You can also extract sublists using slicing.\n",
        "my_list = [1, 2, 3, 4, 5]\n",
        "print(my_list[0])\n",
        "print(my_list[-1])\n",
        "print(my_list[1:4])"
      ],
      "metadata": {
        "colab": {
          "base_uri": "https://localhost:8080/"
        },
        "id": "QcHW0i29AAsS",
        "outputId": "34ded2fd-a10f-49f7-b990-98c4c42abf65"
      },
      "execution_count": null,
      "outputs": [
        {
          "output_type": "stream",
          "name": "stdout",
          "text": [
            "1\n",
            "5\n",
            "[2, 3, 4]\n"
          ]
        }
      ]
    },
    {
      "cell_type": "code",
      "source": [
        "#Membership Testing\n",
        "#it checks whether an element exists in a list using the in keyword\n",
        "\n",
        "my_list = [1, 2, 3, 4, 5]\n",
        "print(3 in my_list)\n",
        "print(10 in my_list)"
      ],
      "metadata": {
        "colab": {
          "base_uri": "https://localhost:8080/"
        },
        "id": "JcuUABIAAZeM",
        "outputId": "864084fd-fe2a-4ca1-ece2-20d6772c53ad"
      },
      "execution_count": null,
      "outputs": [
        {
          "output_type": "stream",
          "name": "stdout",
          "text": [
            "True\n",
            "False\n"
          ]
        }
      ]
    },
    {
      "cell_type": "code",
      "source": [
        "#Concatenation and Repetition\n",
        "list1 = [1, 2]\n",
        "list2 = [3, 4]\n",
        "combined = list1 + list2\n",
        "print(combined)\n"
      ],
      "metadata": {
        "colab": {
          "base_uri": "https://localhost:8080/"
        },
        "id": "I8rwsPv0Bki0",
        "outputId": "126a21e2-81eb-400c-b201-03726b8d6286"
      },
      "execution_count": null,
      "outputs": [
        {
          "output_type": "stream",
          "name": "stdout",
          "text": [
            "[1, 2, 3, 4]\n"
          ]
        }
      ]
    },
    {
      "cell_type": "code",
      "source": [
        "#repetation\n",
        "my_list = [0] * 4\n",
        "print(my_list)\n"
      ],
      "metadata": {
        "colab": {
          "base_uri": "https://localhost:8080/"
        },
        "id": "Xr58PSbWBq_s",
        "outputId": "953b4876-d4d2-4a34-8b22-5d63e0964f4b"
      },
      "execution_count": null,
      "outputs": [
        {
          "output_type": "stream",
          "name": "stdout",
          "text": [
            "[0, 0, 0, 0]\n"
          ]
        }
      ]
    },
    {
      "cell_type": "markdown",
      "source": [
        "### **#Describe how to access , modify and delete elements in a list**\n"
      ],
      "metadata": {
        "id": "5tpxrrbwCPst"
      }
    },
    {
      "cell_type": "markdown",
      "source": [],
      "metadata": {
        "id": "b45CrpGhDhMv"
      }
    },
    {
      "cell_type": "code",
      "source": [
        "my_list = [10, 20, 30, 40, 50]\n",
        "\n",
        "# Accessing elements using positive indexing\n",
        "print(my_list[0])\n",
        "print(my_list[3])\n",
        "\n",
        "# Accessing elements using negative indexing\n",
        "print(my_list[-1])\n",
        "print(my_list[-2])\n",
        "\n",
        "# Modifying elements\n",
        "my_list[1] = 25\n",
        "print(my_list)\n",
        "\n",
        "# Deleting elements\n",
        "del my_list[2]\n",
        "print(my_list)\n"
      ],
      "metadata": {
        "colab": {
          "base_uri": "https://localhost:8080/"
        },
        "id": "gSjICNfECleN",
        "outputId": "76b0b5bc-8e41-4bab-cb82-cb1f71c2c39c"
      },
      "execution_count": null,
      "outputs": [
        {
          "output_type": "stream",
          "name": "stdout",
          "text": [
            "10\n",
            "40\n",
            "50\n",
            "40\n",
            "[10, 25, 30, 40, 50]\n",
            "[10, 25, 40, 50]\n"
          ]
        }
      ]
    },
    {
      "cell_type": "code",
      "source": [
        "my_list = [10, 20, 30, 40, 50]\n",
        "\n",
        "# Accessing a slice\n",
        "print(my_list[1:4])  # Output: [20, 30, 40]\n",
        "\n",
        "# Accessing elements with a step\n",
        "print(my_list[::2])  # Output: [10, 30, 50] (every second element)\n"
      ],
      "metadata": {
        "colab": {
          "base_uri": "https://localhost:8080/"
        },
        "id": "oHezV_1jC1z1",
        "outputId": "9c6ad015-eed7-41d7-b38f-43ef80d541ea"
      },
      "execution_count": null,
      "outputs": [
        {
          "output_type": "stream",
          "name": "stdout",
          "text": [
            "[20, 30, 40]\n",
            "[10, 30, 50]\n"
          ]
        }
      ]
    },
    {
      "cell_type": "code",
      "source": [
        "#Modifying Elements in a List\n",
        "my_list = [1, 2, 3, 4, 5]\n",
        "my_list[1] = 10\n",
        "print(my_list)"
      ],
      "metadata": {
        "colab": {
          "base_uri": "https://localhost:8080/"
        },
        "id": "9iYRUzM_C45s",
        "outputId": "07054806-7c3e-4b56-f6df-1c240672caae"
      },
      "execution_count": null,
      "outputs": [
        {
          "output_type": "stream",
          "name": "stdout",
          "text": [
            "[1, 10, 3, 4, 5]\n"
          ]
        }
      ]
    },
    {
      "cell_type": "markdown",
      "source": [
        "# **Compare and contrast Tuple and lists with example**"
      ],
      "metadata": {
        "id": "5IeqF1EyEIMe"
      }
    },
    {
      "cell_type": "code",
      "source": [
        "#Tuples and Lists are both sequence data types in Python, meaning they can store collections of items. However, there are key differences between them in terms of mutability, syntax, use cases, and performance. Let’s compare and contrast these two data structures.\n",
        "\n",
        "#  Mutability\n",
        "# Lists: Lists are mutable, meaning you can modify their contents after creation. You can change, add, or remove elements.\n",
        "\n",
        "# Tuples: Tuples are immutable, meaning once they are created, their contents cannot be changed. You cannot modify, add, or remove elements from a tuple."
      ],
      "metadata": {
        "id": "btLLuTksEOpV"
      },
      "execution_count": null,
      "outputs": []
    },
    {
      "cell_type": "code",
      "source": [
        "# List (Mutable)\n",
        "my_list = [1, 2, 3]\n",
        "my_list[1] = 20  # Modify element at index 1\n",
        "print(my_list)  # Output: [1, 20, 3]\n",
        "\n",
        "# Tuple (Immutable)\n",
        "my_tuple = (1, 2, 3)\n",
        "# my_tuple[1] = 20  # This would raise a TypeError since tuples are immutable\n"
      ],
      "metadata": {
        "colab": {
          "base_uri": "https://localhost:8080/"
        },
        "id": "2fAMI57wEaFn",
        "outputId": "02b8be26-c555-43f7-cfa7-a66d0e1f3ac6"
      },
      "execution_count": null,
      "outputs": [
        {
          "output_type": "stream",
          "name": "stdout",
          "text": [
            "[1, 20, 3]\n"
          ]
        }
      ]
    },
    {
      "cell_type": "code",
      "source": [
        "my_list = [1, 2, 3]  # List\n",
        "type(my_list)\n",
        "\n"
      ],
      "metadata": {
        "colab": {
          "base_uri": "https://localhost:8080/"
        },
        "id": "yL7Gn3R1EdB-",
        "outputId": "139dce0a-6c1b-4682-a4ab-489c90d8bb64"
      },
      "execution_count": null,
      "outputs": [
        {
          "output_type": "execute_result",
          "data": {
            "text/plain": [
              "list"
            ]
          },
          "metadata": {},
          "execution_count": 26
        }
      ]
    },
    {
      "cell_type": "code",
      "source": [
        "my_tuple = (1, 2, 3)  # Tuple\n",
        "type(my_tuple)"
      ],
      "metadata": {
        "colab": {
          "base_uri": "https://localhost:8080/"
        },
        "id": "zKQkgbUoEoOG",
        "outputId": "a6a26f4a-c3ea-4a85-9f89-c0b2a6df4062"
      },
      "execution_count": null,
      "outputs": [
        {
          "output_type": "execute_result",
          "data": {
            "text/plain": [
              "tuple"
            ]
          },
          "metadata": {},
          "execution_count": 27
        }
      ]
    },
    {
      "cell_type": "markdown",
      "source": [
        "#use cases\n",
        "Lists: Lists are ideal for collections of items that need to be modified, such as dynamically changing data or when you need to frequently add, remove, or update elements.\n",
        "\n",
        "Tuples: Tuples are useful for fixed collections of items. Common use cases include returning multiple values from a function, using them as keys in dictionaries (since they are immutable), and grouping related data that should not change.*italicized text*"
      ],
      "metadata": {
        "id": "K-5KkbusEwmD"
      }
    },
    {
      "cell_type": "code",
      "source": [
        "#6. Homogeneous vs Heterogeneous Elements\n",
        "# Both Lists and Tuples: Both lists and tuples can store heterogeneous data types, meaning they can contain elements of different data types within the same collection."
      ],
      "metadata": {
        "id": "5o5VlMTdFK9v"
      },
      "execution_count": null,
      "outputs": []
    },
    {
      "cell_type": "code",
      "source": [
        "# List containing different data types\n",
        "my_list = [1, \"Hello\", 3.14]\n",
        "print(my_list)\n",
        "\n",
        "# Tuple containing different data types\n",
        "my_tuple = (1, \"Hello\", 3.14)\n",
        "print(my_tuple)\n"
      ],
      "metadata": {
        "colab": {
          "base_uri": "https://localhost:8080/"
        },
        "id": "dc33vSmyFNUO",
        "outputId": "90c16108-bb23-4c99-fc31-c344af4e23e6"
      },
      "execution_count": null,
      "outputs": [
        {
          "output_type": "stream",
          "name": "stdout",
          "text": [
            "[1, 'Hello', 3.14]\n",
            "(1, 'Hello', 3.14)\n"
          ]
        }
      ]
    },
    {
      "cell_type": "markdown",
      "source": [
        "# **Describe the key features of sets and provide examples of their use**\n",
        "\n",
        "A set is a collection of unique, unordered elements in Python. Sets are useful when you need to store distinct elements and perform operations like union, intersection, or difference efficiently. Here's a breakdown of their key features:"
      ],
      "metadata": {
        "id": "E14-3A4QGWzo"
      }
    },
    {
      "cell_type": "code",
      "source": [
        "# 1. Unordered Collection\n",
        "# Sets are unordered, meaning the elements have no specific sequence, and you cannot access elements by their position or index.\n",
        "my_set = {10, 20, 30}\n",
        "print(my_set)  # Output may vary in order: {20, 10, 30}\n"
      ],
      "metadata": {
        "colab": {
          "base_uri": "https://localhost:8080/"
        },
        "id": "eEsmhLGXGebn",
        "outputId": "10174793-1d6a-4004-a823-f6e8ed7af33d"
      },
      "execution_count": 30,
      "outputs": [
        {
          "output_type": "stream",
          "name": "stdout",
          "text": [
            "{10, 20, 30}\n"
          ]
        }
      ]
    },
    {
      "cell_type": "code",
      "source": [
        "#2. Unique Elements\n",
        "my_set = {10, 20, 30, 20}\n",
        "print(my_set)\n"
      ],
      "metadata": {
        "colab": {
          "base_uri": "https://localhost:8080/"
        },
        "id": "_10DJ9utGj1v",
        "outputId": "3e20ef7f-cce9-466d-a258-38bc8000ef25"
      },
      "execution_count": 31,
      "outputs": [
        {
          "output_type": "stream",
          "name": "stdout",
          "text": [
            "{10, 20, 30}\n"
          ]
        }
      ]
    },
    {
      "cell_type": "code",
      "source": [
        "# Mutable\n",
        "my_set = {1, 2, 3}\n",
        "my_set.add(4)\n",
        "print(my_set)\n",
        "\n",
        "my_set.remove(2)\n",
        "print(my_set)\n"
      ],
      "metadata": {
        "colab": {
          "base_uri": "https://localhost:8080/"
        },
        "id": "7zJO07JoGqVY",
        "outputId": "a78d5b10-0e1b-45a7-c32f-f55609548a11"
      },
      "execution_count": 35,
      "outputs": [
        {
          "output_type": "stream",
          "name": "stdout",
          "text": [
            "{1, 2, 3, 4}\n",
            "{1, 3, 4}\n"
          ]
        }
      ]
    },
    {
      "cell_type": "code",
      "source": [
        "#  No Indexing or Slicing\n",
        "# Since sets are unordered, you cannot access elements by their index like you can with lists or tuples. Operations like slicing (e.g., my_set[1:3]) are not allowed."
      ],
      "metadata": {
        "id": "6pcF_YEwHq0b"
      },
      "execution_count": null,
      "outputs": []
    },
    {
      "cell_type": "code",
      "source": [
        "my_set = {10, 20, 30}\n",
        "print(my_set[0])  # Raises TypeError: 'set' object is not subscriptable\n"
      ],
      "metadata": {
        "colab": {
          "base_uri": "https://localhost:8080/",
          "height": 164
        },
        "id": "8RhFzqsvHtpY",
        "outputId": "865fc545-2111-43d7-b037-3f765671ded6"
      },
      "execution_count": 37,
      "outputs": [
        {
          "output_type": "error",
          "ename": "TypeError",
          "evalue": "'set' object is not subscriptable",
          "traceback": [
            "\u001b[0;31m---------------------------------------------------------------------------\u001b[0m",
            "\u001b[0;31mTypeError\u001b[0m                                 Traceback (most recent call last)",
            "\u001b[0;32m<ipython-input-37-8e5350e8134d>\u001b[0m in \u001b[0;36m<cell line: 2>\u001b[0;34m()\u001b[0m\n\u001b[1;32m      1\u001b[0m \u001b[0mmy_set\u001b[0m \u001b[0;34m=\u001b[0m \u001b[0;34m{\u001b[0m\u001b[0;36m10\u001b[0m\u001b[0;34m,\u001b[0m \u001b[0;36m20\u001b[0m\u001b[0;34m,\u001b[0m \u001b[0;36m30\u001b[0m\u001b[0;34m}\u001b[0m\u001b[0;34m\u001b[0m\u001b[0;34m\u001b[0m\u001b[0m\n\u001b[0;32m----> 2\u001b[0;31m \u001b[0mprint\u001b[0m\u001b[0;34m(\u001b[0m\u001b[0mmy_set\u001b[0m\u001b[0;34m[\u001b[0m\u001b[0;36m0\u001b[0m\u001b[0;34m]\u001b[0m\u001b[0;34m)\u001b[0m  \u001b[0;31m# Raises TypeError: 'set' object is not subscriptable\u001b[0m\u001b[0;34m\u001b[0m\u001b[0;34m\u001b[0m\u001b[0m\n\u001b[0m",
            "\u001b[0;31mTypeError\u001b[0m: 'set' object is not subscriptable"
          ]
        }
      ]
    },
    {
      "cell_type": "code",
      "source": [
        "my_list = [1, 2, 2, 3, 4, 4, 5]\n",
        "my_set = set(my_list)  # Removes duplicates\n",
        "print(my_set)  # Output: {1, 2, 3, 4, 5}\n"
      ],
      "metadata": {
        "colab": {
          "base_uri": "https://localhost:8080/"
        },
        "id": "q1Cn9AlEH3dY",
        "outputId": "e094c2d2-6efc-41af-e4cf-69ba516f1684"
      },
      "execution_count": 38,
      "outputs": [
        {
          "output_type": "stream",
          "name": "stdout",
          "text": [
            "{1, 2, 3, 4, 5}\n"
          ]
        }
      ]
    },
    {
      "cell_type": "code",
      "source": [
        "#Set operations\n",
        "\n",
        "set1 = {1, 2, 3}\n",
        "set2 = {3, 4, 5}\n",
        "union_set = set1 | set2\n",
        "print(union_set)  # Output: {1, 2, 3, 4, 5}\n",
        "\n",
        "intersection_set = set1 & set2\n",
        "print(intersection_set)  # Output: {3}\n",
        "\n",
        "difference_set = set1 - set2\n",
        "print(difference_set)  # Output: {1, 2}"
      ],
      "metadata": {
        "colab": {
          "base_uri": "https://localhost:8080/"
        },
        "id": "Jbp9_-q1IILo",
        "outputId": "f4b7b104-215b-41eb-e968-f6ae390ae507"
      },
      "execution_count": 39,
      "outputs": [
        {
          "output_type": "stream",
          "name": "stdout",
          "text": [
            "{1, 2, 3, 4, 5}\n",
            "{3}\n",
            "{1, 2}\n"
          ]
        }
      ]
    },
    {
      "cell_type": "code",
      "source": [
        "my_set = {1, 2, 3}\n",
        "my_set.add(4)\n",
        "print(my_set)  # Output: {1, 2, 3, 4}\n"
      ],
      "metadata": {
        "colab": {
          "base_uri": "https://localhost:8080/"
        },
        "id": "IyGeMB4PITbw",
        "outputId": "ab01c2fc-8b23-408a-c85a-c996fc0c0adf"
      },
      "execution_count": 40,
      "outputs": [
        {
          "output_type": "stream",
          "name": "stdout",
          "text": [
            "{1, 2, 3, 4}\n"
          ]
        }
      ]
    },
    {
      "cell_type": "code",
      "source": [
        "my_set = {1, 2, 3}\n",
        "popped_element = my_set.pop()\n",
        "print(popped_element)  # Output: 1 (or any other element, it's arbitrary)\n",
        "print(my_set)  # Output: {2, 3} (remaining elements)\n"
      ],
      "metadata": {
        "colab": {
          "base_uri": "https://localhost:8080/"
        },
        "id": "MXLo3v1EIWGI",
        "outputId": "fb729c91-0af7-4ac1-c5cb-ce6961513d4c"
      },
      "execution_count": 41,
      "outputs": [
        {
          "output_type": "stream",
          "name": "stdout",
          "text": [
            "1\n",
            "{2, 3}\n"
          ]
        }
      ]
    },
    {
      "cell_type": "code",
      "source": [
        "my_set = {1, 2, 3}\n",
        "my_set.clear()\n",
        "print(my_set)  # Output: set()\n"
      ],
      "metadata": {
        "colab": {
          "base_uri": "https://localhost:8080/"
        },
        "id": "id6PmTT8IZoh",
        "outputId": "b44e76cc-8887-43d5-c57c-f0fd8e38845d"
      },
      "execution_count": 42,
      "outputs": [
        {
          "output_type": "stream",
          "name": "stdout",
          "text": [
            "set()\n"
          ]
        }
      ]
    },
    {
      "cell_type": "code",
      "source": [
        "set1 = {1, 2, 3}\n",
        "set2 = {3, 4, 5}\n",
        "\n",
        "# Combine sets with union\n",
        "union_set = set1.union(set2)\n",
        "print(union_set)  # Output: {1, 2, 3, 4, 5}\n",
        "\n",
        "# Find common elements with intersection\n",
        "intersection_set = set1.intersection(set2)\n",
        "print(intersection_set)  # Output: {3}\n"
      ],
      "metadata": {
        "colab": {
          "base_uri": "https://localhost:8080/"
        },
        "id": "kRCAr9bFIb3B",
        "outputId": "9181ffdf-318e-4efd-9080-11c0d0ba04e0"
      },
      "execution_count": 43,
      "outputs": [
        {
          "output_type": "stream",
          "name": "stdout",
          "text": [
            "{1, 2, 3, 4, 5}\n",
            "{3}\n"
          ]
        }
      ]
    },
    {
      "cell_type": "markdown",
      "source": [
        "**Unordered Collection**- Elements are unordered, no indexing or slicing.\n",
        "**Unique Elements**\t- No duplicates allowed; only unique elements are stored.\n",
        "**Mutable\tElements** - can be added or removed, though frozenset is immutable.\n",
        "**Efficient Membership Testing**\t- Fast membership testing using in.\n",
        "**Mathematical Set Operations** -\tSupports union, intersection, difference, and symmetric difference.\n",
        "**Built-in Methods\tMethods** like add(), remove(), discard(), pop(), clear(), etc.\n",
        "**Immutable Set (frozenset)**\tImmutable version of a set where elements cannot be changed after creation.\n",
        "Duplicates Elimination\tConvenient way to remove duplicates from lists or other iterables."
      ],
      "metadata": {
        "id": "Vm9i2Zv1IgFR"
      }
    },
    {
      "cell_type": "markdown",
      "source": [
        "## **Discuss the usecase of tuple and sets in python**"
      ],
      "metadata": {
        "id": "UBuOuoiqQBwz"
      }
    },
    {
      "cell_type": "code",
      "source": [
        "#Both tuples and sets serve distinct purposes in Python due to their specific characteristics, such as immutability for tuples and uniqueness for sets.\n",
        "\n",
        "#  to define a constant set of values (e.g., days of the week, months, or configuration settings) that should not be altered during program execution, tuples are perfect because they are immutable.\n"
      ],
      "metadata": {
        "id": "JVV520qFQKgW"
      },
      "execution_count": 72,
      "outputs": []
    },
    {
      "cell_type": "code",
      "source": [
        "#Immutable Data Grouping\n",
        "# Tuple representing a point in 3D space\n",
        "point = (10, 20, 30)  # X, Y, Z coordinates\n",
        "\n",
        "# RGB color\n",
        "color = (255, 0, 0)  # Red color\n",
        "print(point)  # Output: (10, 20, 30)\n",
        "print(color)  # Output: (255, 0, 0)\n",
        "\n"
      ],
      "metadata": {
        "colab": {
          "base_uri": "https://localhost:8080/"
        },
        "id": "i1ZUaJbNSEFX",
        "outputId": "0b497d71-2d4f-477c-ca85-5685be8b593c"
      },
      "execution_count": 55,
      "outputs": [
        {
          "output_type": "stream",
          "name": "stdout",
          "text": [
            "(10, 20, 30)\n",
            "(255, 0, 0)\n"
          ]
        }
      ]
    },
    {
      "cell_type": "code",
      "source": [
        "#2. Fixed Configuration or Constant Data\n",
        "# Defining days of the week as a tuple\n",
        "DAYS_OF_WEEK = (\"Sunday\", \"Monday\", \"Tuesday\", \"Wednesday\", \"Thursday\", \"Friday\", \"Saturday\")\n",
        "\n",
        "DAYS_OF_WEEK"
      ],
      "metadata": {
        "colab": {
          "base_uri": "https://localhost:8080/"
        },
        "id": "LM6yXCkPSlOh",
        "outputId": "177ce12e-2791-423d-f0dd-8ceb9162aa18"
      },
      "execution_count": 56,
      "outputs": [
        {
          "output_type": "execute_result",
          "data": {
            "text/plain": [
              "('Sunday', 'Monday', 'Tuesday', 'Wednesday', 'Thursday', 'Friday', 'Saturday')"
            ]
          },
          "metadata": {},
          "execution_count": 56
        }
      ]
    },
    {
      "cell_type": "code",
      "source": [
        "#Use Cases of Sets\n",
        "#Removing Duplicates from Collections\n",
        "\n",
        "# One of the primary use cases for sets is removing duplicates from a list or other iterable. Since sets only store unique elements, you can convert a list with duplicates into a set to get only distinct elements.\n",
        "\n",
        "my_list = [1, 2, 2, 3, 4, 4, 5]\n",
        "my_set = set(my_list)\n",
        "print(my_set)"
      ],
      "metadata": {
        "colab": {
          "base_uri": "https://localhost:8080/"
        },
        "id": "zEQkEGeNQ5_P",
        "outputId": "7d8e7aaf-1a62-4206-b8ed-38a8044b7ec8"
      },
      "execution_count": 48,
      "outputs": [
        {
          "output_type": "stream",
          "name": "stdout",
          "text": [
            "{1, 2, 3, 4, 5}\n"
          ]
        }
      ]
    },
    {
      "cell_type": "code",
      "source": [
        "set_a = {1, 2, 3}\n",
        "set_b = {3, 4, 5}\n",
        "\n",
        "# Union\n",
        "print(set_a | set_b)\n",
        "# Intersection\n",
        "print(set_a & set_b)\n",
        "\n",
        "# Difference\n",
        "print(set_a - set_b)\n"
      ],
      "metadata": {
        "colab": {
          "base_uri": "https://localhost:8080/"
        },
        "id": "RoUySCLXRQ5W",
        "outputId": "c0fdaa65-7ad5-4543-cb0e-8abeb80333cc"
      },
      "execution_count": 50,
      "outputs": [
        {
          "output_type": "stream",
          "name": "stdout",
          "text": [
            "{1, 2, 3, 4, 5}\n",
            "{3}\n",
            "{1, 2}\n"
          ]
        }
      ]
    },
    {
      "cell_type": "code",
      "source": [
        "set_a = {1, 2, 3}\n",
        "set_b = {3, 4, 5}\n",
        "\n",
        "# Symmetric Difference (elements in either set_a or set_b but not in both)\n",
        "print(set_a ^ set_b)  # Output: {1, 2, 4, 5}\n"
      ],
      "metadata": {
        "colab": {
          "base_uri": "https://localhost:8080/"
        },
        "id": "ythjQ3hyRZpL",
        "outputId": "ea646f0a-56a5-4d5f-b785-79fae838304e"
      },
      "execution_count": 51,
      "outputs": [
        {
          "output_type": "stream",
          "name": "stdout",
          "text": [
            "{1, 2, 4, 5}\n"
          ]
        }
      ]
    },
    {
      "cell_type": "code",
      "source": [
        "employees_in_project_A = {\"Alice\", \"Bob\", \"Charlie\"}\n",
        "employees_in_project_B = {\"Charlie\", \"David\", \"Eve\"}\n",
        "\n",
        "# Find employees working on both projects\n",
        "common_employees = employees_in_project_A & employees_in_project_B\n",
        "print(common_employees)  # Output: {'Charlie'}\n"
      ],
      "metadata": {
        "colab": {
          "base_uri": "https://localhost:8080/"
        },
        "id": "nPbcDQqoRcLM",
        "outputId": "ad8c2a15-ce2e-4e59-eda5-7ae14ceb491e"
      },
      "execution_count": 52,
      "outputs": [
        {
          "output_type": "stream",
          "name": "stdout",
          "text": [
            "{'Charlie'}\n"
          ]
        }
      ]
    },
    {
      "cell_type": "code",
      "source": [
        "large_list = list(range(1000000))  # A list of 1 million elements\n",
        "large_set = set(large_list)  # Convert to set for faster membership checks\n",
        "\n",
        "# Checking membership\n",
        "print(999999 in large_set)  # Fast check in set\n"
      ],
      "metadata": {
        "colab": {
          "base_uri": "https://localhost:8080/"
        },
        "id": "1KatruNjRn5c",
        "outputId": "b6a0c779-e8da-4a4e-b4f6-2d52faf5404c"
      },
      "execution_count": 53,
      "outputs": [
        {
          "output_type": "stream",
          "name": "stdout",
          "text": [
            "True\n"
          ]
        }
      ]
    },
    {
      "cell_type": "code",
      "source": [
        "# 3. Data Integrity\n",
        "# Tuples ensure that once the data is assigned, it won’t be accidentally modified.\n",
        "\n",
        "# Group of student details (name, age, grade)\n",
        "student = (\"John\", 21, \"A\")  # Immutable data"
      ],
      "metadata": {
        "id": "PPLIxT02SttX"
      },
      "execution_count": 57,
      "outputs": []
    },
    {
      "cell_type": "markdown",
      "source": [
        "### **Describe how to add, modify , delete item in dictionary**"
      ],
      "metadata": {
        "id": "wcySZgTGTTxz"
      }
    },
    {
      "cell_type": "code",
      "source": [
        "# Creating an empty dictionary\n",
        "my_dict = {}\n",
        "\n",
        "# Adding a new key-value pair\n",
        "my_dict['name'] = 'Shivanand'\n",
        "my_dict['age'] = 27\n",
        "\n",
        "print(my_dict)\n"
      ],
      "metadata": {
        "colab": {
          "base_uri": "https://localhost:8080/"
        },
        "id": "qwALXLgETYLl",
        "outputId": "c47bb06a-75d9-4bd5-bb4e-0874bfff9cb2"
      },
      "execution_count": 63,
      "outputs": [
        {
          "output_type": "stream",
          "name": "stdout",
          "text": [
            "{'name': 'Shivanand', 'age': 27}\n"
          ]
        }
      ]
    },
    {
      "cell_type": "code",
      "source": [
        "# 1. Adding Items to a Dictionary\n",
        "# Adding multiple items\n",
        "my_dict.update({'gender': 'Male', 'location': 'Bangalore'})\n",
        "print(my_dict)\n"
      ],
      "metadata": {
        "colab": {
          "base_uri": "https://localhost:8080/"
        },
        "id": "Byj-nnDyTgDe",
        "outputId": "7446a2e3-6fbd-4350-ddfa-4a59025d6483"
      },
      "execution_count": 64,
      "outputs": [
        {
          "output_type": "stream",
          "name": "stdout",
          "text": [
            "{'name': 'Shivanand', 'age': 27, 'gender': 'Male', 'location': 'Bangalore'}\n"
          ]
        }
      ]
    },
    {
      "cell_type": "code",
      "source": [
        "# 2. Modifying Items in a Dictionary\n",
        "# Modifying an existing key-value pair\n",
        "my_dict['age'] = 26\n",
        "print(my_dict)"
      ],
      "metadata": {
        "colab": {
          "base_uri": "https://localhost:8080/"
        },
        "id": "pb3StU7NTtVh",
        "outputId": "d6a1c7a9-5a71-464a-958c-a8b4051b25b5"
      },
      "execution_count": 65,
      "outputs": [
        {
          "output_type": "stream",
          "name": "stdout",
          "text": [
            "{'name': 'Shivanand', 'age': 26, 'gender': 'Male', 'location': 'Bangalore'}\n"
          ]
        }
      ]
    },
    {
      "cell_type": "code",
      "source": [
        "# 3. Deleting Items from a Dictionary\n",
        "# Using the pop() Method\n",
        "# Popping the 'location' key\n",
        "location = my_dict.pop('location')\n",
        "print(location)\n",
        "print(my_dict)\n"
      ],
      "metadata": {
        "colab": {
          "base_uri": "https://localhost:8080/"
        },
        "id": "0-eF8oRJT5fo",
        "outputId": "56861f9c-b464-4f6d-bba6-54e372540011"
      },
      "execution_count": 67,
      "outputs": [
        {
          "output_type": "stream",
          "name": "stdout",
          "text": [
            "Bangalore\n",
            "{'name': 'Shivanand', 'age': 26, 'gender': 'Male'}\n"
          ]
        }
      ]
    },
    {
      "cell_type": "code",
      "source": [
        "# If the key doesn’t exist, the pop() method will raise a KeyError, but you can provide a default value to return in case the key is missing.\n",
        "\n",
        "# Using pop with a default value\n",
        "country = my_dict.pop('country', 'Not Found')\n",
        "print(country)  # Output: Not Found\n",
        "\n",
        "\n"
      ],
      "metadata": {
        "colab": {
          "base_uri": "https://localhost:8080/"
        },
        "id": "G-A1t1UPUQ2K",
        "outputId": "7fd47296-470d-4ea6-daa8-68fc33581b97"
      },
      "execution_count": 68,
      "outputs": [
        {
          "output_type": "stream",
          "name": "stdout",
          "text": [
            "Not Found\n"
          ]
        }
      ]
    },
    {
      "cell_type": "code",
      "source": [
        "# Clearing all items from the dictionary\n",
        "my_dict.clear()\n",
        "print(my_dict)"
      ],
      "metadata": {
        "colab": {
          "base_uri": "https://localhost:8080/"
        },
        "id": "GmTQPMzjUYwb",
        "outputId": "884b52f2-6183-4ba3-9054-297a3e3fd867"
      },
      "execution_count": 69,
      "outputs": [
        {
          "output_type": "stream",
          "name": "stdout",
          "text": [
            "{}\n"
          ]
        }
      ]
    },
    {
      "cell_type": "markdown",
      "source": [
        "### ***Discuss the importance of dictionary keys being immutable and provide example ***"
      ],
      "metadata": {
        "id": "zPlOwsFfUywN"
      }
    },
    {
      "cell_type": "markdown",
      "source": [
        "dictionary keys must be immutable because they are stored using a hashing mechanism. When a key is added to a dictionary, Python computes a hash value for that key. This hash value allows for quick lookup, insertion, and deletion of items in the dictionary. If dictionary keys were mutable, the hash value could change when the key is modified, leading to issues with retrieving, modifying, or deleting dictionary entries.\n",
        "\n",
        "1. Efficient Lookups Using Hashing\n",
        " Dictionaries in Python are implemented as hash tables. Each key is hashed to a unique hash code, and this hash is used to determine the location of the associated value in memory.\n",
        "If keys were mutable, their hash values could change after the key is added to the dictionary. This would make it impossible to retrieve the corresponding value because the dictionary would be looking for an outdated hash."
      ],
      "metadata": {
        "id": "Jnd9VuS8WDtx"
      }
    },
    {
      "cell_type": "code",
      "source": [
        "my_dict = {\"name\": \"Alice\", \"age\": 30}\n",
        "print(hash(\"name\"))  # Hash value for the string key \"name\"\n"
      ],
      "metadata": {
        "colab": {
          "base_uri": "https://localhost:8080/"
        },
        "id": "1pxDVQinWKye",
        "outputId": "f64394e5-e1f7-42d7-e05b-1d360bac7c7b"
      },
      "execution_count": 74,
      "outputs": [
        {
          "output_type": "stream",
          "name": "stdout",
          "text": [
            "-3298407098526914940\n"
          ]
        }
      ]
    },
    {
      "cell_type": "markdown",
      "source": [
        "2. Consistency of Data\n",
        "Immutability ensures that keys remain stable throughout the lifecycle of a dictionary. If keys could change, it could lead to inconsistent data retrieval.\n",
        "Mutable keys could be altered after being inserted, leading to unpredictable behavior when trying to look up or delete entries."
      ],
      "metadata": {
        "id": "Ug_JBeaAWPvC"
      }
    },
    {
      "cell_type": "code",
      "source": [
        "# Example of trying to use a mutable object (list) as a key\n",
        "mutable_key = [1, 2, 3]\n",
        "\n",
        "# This would raise a TypeError because lists are mutable and unhashable\n",
        "# my_dict = {mutable_key: \"value\"}  # Error: unhashable type: 'list'\n"
      ],
      "metadata": {
        "id": "uu95uRhsWRVr"
      },
      "execution_count": 76,
      "outputs": []
    },
    {
      "cell_type": "markdown",
      "source": [
        "3. Hashable Keys for Correct Indexing\n",
        "Dictionary keys need to be hashable. A hashable object has a constant hash value during its lifetime, meaning it must be immutable (e.g., strings, numbers, tuples of immutable elements).\n",
        "Non-hashable (mutable) objects, such as lists, sets, or dictionaries, cannot be reliably used as keys because their contents can change, altering their hash value."
      ],
      "metadata": {
        "id": "nHyAp7lpWZQj"
      }
    },
    {
      "cell_type": "code",
      "source": [
        "# Using immutable objects as dictionary keys\n",
        "valid_dict = {\n",
        "    \"name\": \"John\",         # String (immutable)\n",
        "    42: \"age\",              # Integer (immutable)\n",
        "    (1, 2): \"coordinates\",  # Tuple (immutable)\n",
        "}\n",
        "\n",
        "print(valid_dict[\"name\"])  # Output: John\n",
        "print(valid_dict[(1, 2)])  # Output: coordinates\n"
      ],
      "metadata": {
        "colab": {
          "base_uri": "https://localhost:8080/"
        },
        "id": "DKa8SqAPWfaM",
        "outputId": "48956eca-0021-4975-ebd8-40e978fbcdd4"
      },
      "execution_count": 77,
      "outputs": [
        {
          "output_type": "stream",
          "name": "stdout",
          "text": [
            "John\n",
            "coordinates\n"
          ]
        }
      ]
    },
    {
      "cell_type": "code",
      "source": [
        "# Invalid Mutable Keys:\n",
        "# Attempting to use mutable objects like lists as keys will fail\n",
        "invalid_dict = {}\n",
        "\n",
        "# This raises a TypeError\n",
        "# invalid_dict[[1, 2, 3]] = \"invalid key\"  # Error: unhashable type: 'list'\n"
      ],
      "metadata": {
        "id": "RDjGbgNIWkzM"
      },
      "execution_count": 78,
      "outputs": []
    },
    {
      "cell_type": "markdown",
      "source": [
        "4. Preventing Inconsistent Behavior\n",
        "If a dictionary allowed mutable keys, modifying the key would disrupt dictionary operations, potentially resulting in wrong or missing values. With immutable keys, the dictionary’s internal structure remains stable and predictable."
      ],
      "metadata": {
        "id": "WmpyJkvQWrim"
      }
    },
    {
      "cell_type": "code",
      "source": [
        "# Example Demonstrating the Need for Immutable Keys\n",
        "# Using an immutable tuple as a key\n",
        "coordinates = (10, 20)\n",
        "location_dict = {coordinates: \"Point A\"}\n",
        "\n",
        "# Accessing the value using the same tuple\n",
        "print(location_dict[coordinates])  # Output: Point A\n"
      ],
      "metadata": {
        "colab": {
          "base_uri": "https://localhost:8080/"
        },
        "id": "EzeEoFyaWxrk",
        "outputId": "e9617b36-3720-44fc-8153-db7b6b5c73c3"
      },
      "execution_count": 79,
      "outputs": [
        {
          "output_type": "stream",
          "name": "stdout",
          "text": [
            "Point A\n"
          ]
        }
      ]
    },
    {
      "cell_type": "code",
      "source": [
        "# Attempting to Use a List (Mutable) as a Key:\n",
        "\n",
        "# Attempting to use a mutable list as a key would raise an error\n",
        "mutable_key = [1, 2, 3]\n",
        "\n",
        "# This raises a TypeError because lists are mutable\n",
        "# location_dict = {mutable_key: \"value\"}  # Error: unhashable type: 'list'\n"
      ],
      "metadata": {
        "id": "0R4kZoH4W2LY"
      },
      "execution_count": 81,
      "outputs": []
    },
    {
      "cell_type": "markdown",
      "source": [
        "Conclusion\n",
        "dictionary keys in Python must be immutable because:\n",
        "\n",
        "It ensures efficient lookups by maintaining a constant hash value.\n",
        "It guarantees data consistency, preventing errors in retrieval or deletion of key-value pairs.\n",
        "It maintains the integrity of the dictionary, ensuring predictable and reliable behavior.\n",
        "Immutable types (like strings, integers, and tuples) are suitable keys because their values can’t change. Mutable types (like lists, sets, or other dictionaries) are disallowed as keys to avoid potential issues."
      ],
      "metadata": {
        "id": "kG9y48BiW-sB"
      }
    }
  ]
}